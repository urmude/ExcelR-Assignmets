{
 "cells": [
  {
   "cell_type": "code",
   "execution_count": 1,
   "id": "f8f95b10",
   "metadata": {
    "ExecuteTime": {
     "end_time": "2022-07-11T05:38:25.448961Z",
     "start_time": "2022-07-11T05:38:22.472273Z"
    }
   },
   "outputs": [],
   "source": [
    "import pandas as pd\n",
    "import numpy as np\n",
    "import matplotlib.pyplot as plt\n",
    "from sklearn.model_selection import KFold\n",
    "from sklearn.model_selection import cross_val_score\n",
    "from sklearn.neighbors import KNeighborsClassifier\n",
    "from sklearn.preprocessing import StandardScaler\n",
    "import warnings\n",
    "warnings.filterwarnings('ignore')"
   ]
  },
  {
   "cell_type": "code",
   "execution_count": 2,
   "id": "7d8d2d23",
   "metadata": {
    "ExecuteTime": {
     "end_time": "2022-07-11T05:38:26.673560Z",
     "start_time": "2022-07-11T05:38:26.609564Z"
    }
   },
   "outputs": [
    {
     "data": {
      "text/html": [
       "<div>\n",
       "<style scoped>\n",
       "    .dataframe tbody tr th:only-of-type {\n",
       "        vertical-align: middle;\n",
       "    }\n",
       "\n",
       "    .dataframe tbody tr th {\n",
       "        vertical-align: top;\n",
       "    }\n",
       "\n",
       "    .dataframe thead th {\n",
       "        text-align: right;\n",
       "    }\n",
       "</style>\n",
       "<table border=\"1\" class=\"dataframe\">\n",
       "  <thead>\n",
       "    <tr style=\"text-align: right;\">\n",
       "      <th></th>\n",
       "      <th>RI</th>\n",
       "      <th>Na</th>\n",
       "      <th>Mg</th>\n",
       "      <th>Al</th>\n",
       "      <th>Si</th>\n",
       "      <th>K</th>\n",
       "      <th>Ca</th>\n",
       "      <th>Ba</th>\n",
       "      <th>Fe</th>\n",
       "      <th>Type</th>\n",
       "    </tr>\n",
       "  </thead>\n",
       "  <tbody>\n",
       "    <tr>\n",
       "      <th>0</th>\n",
       "      <td>1.52101</td>\n",
       "      <td>13.64</td>\n",
       "      <td>4.49</td>\n",
       "      <td>1.10</td>\n",
       "      <td>71.78</td>\n",
       "      <td>0.06</td>\n",
       "      <td>8.75</td>\n",
       "      <td>0.0</td>\n",
       "      <td>0.0</td>\n",
       "      <td>1</td>\n",
       "    </tr>\n",
       "    <tr>\n",
       "      <th>1</th>\n",
       "      <td>1.51761</td>\n",
       "      <td>13.89</td>\n",
       "      <td>3.60</td>\n",
       "      <td>1.36</td>\n",
       "      <td>72.73</td>\n",
       "      <td>0.48</td>\n",
       "      <td>7.83</td>\n",
       "      <td>0.0</td>\n",
       "      <td>0.0</td>\n",
       "      <td>1</td>\n",
       "    </tr>\n",
       "    <tr>\n",
       "      <th>2</th>\n",
       "      <td>1.51618</td>\n",
       "      <td>13.53</td>\n",
       "      <td>3.55</td>\n",
       "      <td>1.54</td>\n",
       "      <td>72.99</td>\n",
       "      <td>0.39</td>\n",
       "      <td>7.78</td>\n",
       "      <td>0.0</td>\n",
       "      <td>0.0</td>\n",
       "      <td>1</td>\n",
       "    </tr>\n",
       "    <tr>\n",
       "      <th>3</th>\n",
       "      <td>1.51766</td>\n",
       "      <td>13.21</td>\n",
       "      <td>3.69</td>\n",
       "      <td>1.29</td>\n",
       "      <td>72.61</td>\n",
       "      <td>0.57</td>\n",
       "      <td>8.22</td>\n",
       "      <td>0.0</td>\n",
       "      <td>0.0</td>\n",
       "      <td>1</td>\n",
       "    </tr>\n",
       "    <tr>\n",
       "      <th>4</th>\n",
       "      <td>1.51742</td>\n",
       "      <td>13.27</td>\n",
       "      <td>3.62</td>\n",
       "      <td>1.24</td>\n",
       "      <td>73.08</td>\n",
       "      <td>0.55</td>\n",
       "      <td>8.07</td>\n",
       "      <td>0.0</td>\n",
       "      <td>0.0</td>\n",
       "      <td>1</td>\n",
       "    </tr>\n",
       "  </tbody>\n",
       "</table>\n",
       "</div>"
      ],
      "text/plain": [
       "        RI     Na    Mg    Al     Si     K    Ca   Ba   Fe  Type\n",
       "0  1.52101  13.64  4.49  1.10  71.78  0.06  8.75  0.0  0.0     1\n",
       "1  1.51761  13.89  3.60  1.36  72.73  0.48  7.83  0.0  0.0     1\n",
       "2  1.51618  13.53  3.55  1.54  72.99  0.39  7.78  0.0  0.0     1\n",
       "3  1.51766  13.21  3.69  1.29  72.61  0.57  8.22  0.0  0.0     1\n",
       "4  1.51742  13.27  3.62  1.24  73.08  0.55  8.07  0.0  0.0     1"
      ]
     },
     "execution_count": 2,
     "metadata": {},
     "output_type": "execute_result"
    }
   ],
   "source": [
    "glass_df = pd.read_csv(\"glass.csv\")\n",
    "glass_df.head()"
   ]
  },
  {
   "cell_type": "code",
   "execution_count": 3,
   "id": "9ef1ba83",
   "metadata": {
    "ExecuteTime": {
     "end_time": "2022-07-11T05:38:28.456698Z",
     "start_time": "2022-07-11T05:38:28.424700Z"
    }
   },
   "outputs": [
    {
     "name": "stdout",
     "output_type": "stream",
     "text": [
      "<class 'pandas.core.frame.DataFrame'>\n",
      "RangeIndex: 214 entries, 0 to 213\n",
      "Data columns (total 10 columns):\n",
      " #   Column  Non-Null Count  Dtype  \n",
      "---  ------  --------------  -----  \n",
      " 0   RI      214 non-null    float64\n",
      " 1   Na      214 non-null    float64\n",
      " 2   Mg      214 non-null    float64\n",
      " 3   Al      214 non-null    float64\n",
      " 4   Si      214 non-null    float64\n",
      " 5   K       214 non-null    float64\n",
      " 6   Ca      214 non-null    float64\n",
      " 7   Ba      214 non-null    float64\n",
      " 8   Fe      214 non-null    float64\n",
      " 9   Type    214 non-null    int64  \n",
      "dtypes: float64(9), int64(1)\n",
      "memory usage: 16.8 KB\n"
     ]
    }
   ],
   "source": [
    "glass_df.info()"
   ]
  },
  {
   "cell_type": "code",
   "execution_count": 4,
   "id": "959570b5",
   "metadata": {
    "ExecuteTime": {
     "end_time": "2022-07-11T05:38:33.797015Z",
     "start_time": "2022-07-11T05:38:33.772993Z"
    }
   },
   "outputs": [
    {
     "data": {
      "text/plain": [
       "(214, 10)"
      ]
     },
     "execution_count": 4,
     "metadata": {},
     "output_type": "execute_result"
    }
   ],
   "source": [
    "glass_df.shape"
   ]
  },
  {
   "cell_type": "code",
   "execution_count": 5,
   "id": "4ef1ef9e",
   "metadata": {
    "ExecuteTime": {
     "end_time": "2022-07-11T05:38:36.500566Z",
     "start_time": "2022-07-11T05:38:36.476544Z"
    }
   },
   "outputs": [
    {
     "data": {
      "text/plain": [
       "2    76\n",
       "1    70\n",
       "7    29\n",
       "3    17\n",
       "5    13\n",
       "6     9\n",
       "Name: Type, dtype: int64"
      ]
     },
     "execution_count": 5,
     "metadata": {},
     "output_type": "execute_result"
    }
   ],
   "source": [
    "glass_df['Type'].value_counts()"
   ]
  },
  {
   "cell_type": "code",
   "execution_count": 6,
   "id": "4e8259b6",
   "metadata": {
    "ExecuteTime": {
     "end_time": "2022-07-11T05:38:41.495243Z",
     "start_time": "2022-07-11T05:38:41.455238Z"
    }
   },
   "outputs": [
    {
     "data": {
      "text/html": [
       "<div>\n",
       "<style scoped>\n",
       "    .dataframe tbody tr th:only-of-type {\n",
       "        vertical-align: middle;\n",
       "    }\n",
       "\n",
       "    .dataframe tbody tr th {\n",
       "        vertical-align: top;\n",
       "    }\n",
       "\n",
       "    .dataframe thead th {\n",
       "        text-align: right;\n",
       "    }\n",
       "</style>\n",
       "<table border=\"1\" class=\"dataframe\">\n",
       "  <thead>\n",
       "    <tr style=\"text-align: right;\">\n",
       "      <th></th>\n",
       "      <th>RI</th>\n",
       "      <th>Na</th>\n",
       "      <th>Mg</th>\n",
       "      <th>Al</th>\n",
       "      <th>Si</th>\n",
       "      <th>K</th>\n",
       "      <th>Ca</th>\n",
       "      <th>Ba</th>\n",
       "      <th>Fe</th>\n",
       "      <th>Type</th>\n",
       "    </tr>\n",
       "  </thead>\n",
       "  <tbody>\n",
       "    <tr>\n",
       "      <th>0</th>\n",
       "      <td>1.52101</td>\n",
       "      <td>13.64</td>\n",
       "      <td>4.49</td>\n",
       "      <td>1.10</td>\n",
       "      <td>71.78</td>\n",
       "      <td>0.06</td>\n",
       "      <td>8.75</td>\n",
       "      <td>0.0</td>\n",
       "      <td>0.0</td>\n",
       "      <td>building_windows_float_processed</td>\n",
       "    </tr>\n",
       "    <tr>\n",
       "      <th>1</th>\n",
       "      <td>1.51761</td>\n",
       "      <td>13.89</td>\n",
       "      <td>3.60</td>\n",
       "      <td>1.36</td>\n",
       "      <td>72.73</td>\n",
       "      <td>0.48</td>\n",
       "      <td>7.83</td>\n",
       "      <td>0.0</td>\n",
       "      <td>0.0</td>\n",
       "      <td>building_windows_float_processed</td>\n",
       "    </tr>\n",
       "    <tr>\n",
       "      <th>2</th>\n",
       "      <td>1.51618</td>\n",
       "      <td>13.53</td>\n",
       "      <td>3.55</td>\n",
       "      <td>1.54</td>\n",
       "      <td>72.99</td>\n",
       "      <td>0.39</td>\n",
       "      <td>7.78</td>\n",
       "      <td>0.0</td>\n",
       "      <td>0.0</td>\n",
       "      <td>building_windows_float_processed</td>\n",
       "    </tr>\n",
       "    <tr>\n",
       "      <th>3</th>\n",
       "      <td>1.51766</td>\n",
       "      <td>13.21</td>\n",
       "      <td>3.69</td>\n",
       "      <td>1.29</td>\n",
       "      <td>72.61</td>\n",
       "      <td>0.57</td>\n",
       "      <td>8.22</td>\n",
       "      <td>0.0</td>\n",
       "      <td>0.0</td>\n",
       "      <td>building_windows_float_processed</td>\n",
       "    </tr>\n",
       "    <tr>\n",
       "      <th>4</th>\n",
       "      <td>1.51742</td>\n",
       "      <td>13.27</td>\n",
       "      <td>3.62</td>\n",
       "      <td>1.24</td>\n",
       "      <td>73.08</td>\n",
       "      <td>0.55</td>\n",
       "      <td>8.07</td>\n",
       "      <td>0.0</td>\n",
       "      <td>0.0</td>\n",
       "      <td>building_windows_float_processed</td>\n",
       "    </tr>\n",
       "  </tbody>\n",
       "</table>\n",
       "</div>"
      ],
      "text/plain": [
       "        RI     Na    Mg    Al     Si     K    Ca   Ba   Fe  \\\n",
       "0  1.52101  13.64  4.49  1.10  71.78  0.06  8.75  0.0  0.0   \n",
       "1  1.51761  13.89  3.60  1.36  72.73  0.48  7.83  0.0  0.0   \n",
       "2  1.51618  13.53  3.55  1.54  72.99  0.39  7.78  0.0  0.0   \n",
       "3  1.51766  13.21  3.69  1.29  72.61  0.57  8.22  0.0  0.0   \n",
       "4  1.51742  13.27  3.62  1.24  73.08  0.55  8.07  0.0  0.0   \n",
       "\n",
       "                               Type  \n",
       "0  building_windows_float_processed  \n",
       "1  building_windows_float_processed  \n",
       "2  building_windows_float_processed  \n",
       "3  building_windows_float_processed  \n",
       "4  building_windows_float_processed  "
      ]
     },
     "execution_count": 6,
     "metadata": {},
     "output_type": "execute_result"
    }
   ],
   "source": [
    "glass_df['Type'] = glass_df['Type'].replace({1:'building_windows_float_processed',2:'building_windows_non_float_processed',3:'vehicle_windows_float_processed',5:'containers',6:'tableware',7:'headlamps'})\n",
    "glass_df.head()"
   ]
  },
  {
   "cell_type": "code",
   "execution_count": 7,
   "id": "b3db5df1",
   "metadata": {
    "ExecuteTime": {
     "end_time": "2022-07-11T05:38:51.280879Z",
     "start_time": "2022-07-11T05:38:51.256880Z"
    }
   },
   "outputs": [
    {
     "data": {
      "text/plain": [
       "RI      float64\n",
       "Na      float64\n",
       "Mg      float64\n",
       "Al      float64\n",
       "Si      float64\n",
       "K       float64\n",
       "Ca      float64\n",
       "Ba      float64\n",
       "Fe      float64\n",
       "Type     object\n",
       "dtype: object"
      ]
     },
     "execution_count": 7,
     "metadata": {},
     "output_type": "execute_result"
    }
   ],
   "source": [
    "glass_df.dtypes"
   ]
  },
  {
   "cell_type": "code",
   "execution_count": 8,
   "id": "63e21220",
   "metadata": {
    "ExecuteTime": {
     "end_time": "2022-07-11T05:39:47.721570Z",
     "start_time": "2022-07-11T05:39:47.697573Z"
    }
   },
   "outputs": [],
   "source": [
    "X = glass_df.iloc[:,0:9]\n",
    "Y = glass_df.iloc[:,9]"
   ]
  },
  {
   "cell_type": "code",
   "execution_count": 9,
   "id": "762e8253",
   "metadata": {
    "ExecuteTime": {
     "end_time": "2022-07-11T05:39:49.333370Z",
     "start_time": "2022-07-11T05:39:49.317368Z"
    }
   },
   "outputs": [],
   "source": [
    "from sklearn.model_selection import GridSearchCV\n",
    "n_neighbors = np.array(range(1,40))\n",
    "metric = ['euclidean','minkowski']\n",
    "param_grid = dict(n_neighbors=n_neighbors,metric=metric)"
   ]
  },
  {
   "cell_type": "code",
   "execution_count": 10,
   "id": "9831eb6b",
   "metadata": {
    "ExecuteTime": {
     "end_time": "2022-07-11T05:39:58.549212Z",
     "start_time": "2022-07-11T05:39:54.316538Z"
    }
   },
   "outputs": [
    {
     "name": "stdout",
     "output_type": "stream",
     "text": [
      "0.640531561461794\n",
      "{'metric': 'euclidean', 'n_neighbors': 1}\n"
     ]
    }
   ],
   "source": [
    "model = KNeighborsClassifier()\n",
    "grid = GridSearchCV(estimator=model, param_grid=param_grid)\n",
    "grid.fit(X, Y)\n",
    "print(grid.best_score_)\n",
    "print(grid.best_params_)"
   ]
  },
  {
   "cell_type": "code",
   "execution_count": 11,
   "id": "491b618d",
   "metadata": {
    "ExecuteTime": {
     "end_time": "2022-07-11T05:40:41.063479Z",
     "start_time": "2022-07-11T05:40:41.047460Z"
    }
   },
   "outputs": [],
   "source": [
    "from sklearn.model_selection import train_test_split\n",
    "x_train,x_test,y_train,y_test=train_test_split(X,Y,test_size = 0.2,random_state = 23)"
   ]
  },
  {
   "cell_type": "code",
   "execution_count": 12,
   "id": "e3a896a4",
   "metadata": {
    "ExecuteTime": {
     "end_time": "2022-07-11T05:40:42.015707Z",
     "start_time": "2022-07-11T05:40:41.991687Z"
    }
   },
   "outputs": [],
   "source": [
    "model = KNeighborsClassifier(n_neighbors=1,metric = 'euclidean')\n",
    "modelkn = model.fit(x_train,y_train)"
   ]
  },
  {
   "cell_type": "code",
   "execution_count": 13,
   "id": "93bc9c5e",
   "metadata": {
    "ExecuteTime": {
     "end_time": "2022-07-11T05:40:43.597914Z",
     "start_time": "2022-07-11T05:40:43.565916Z"
    }
   },
   "outputs": [
    {
     "data": {
      "text/plain": [
       "array(['headlamps', 'building_windows_float_processed',\n",
       "       'building_windows_float_processed',\n",
       "       'building_windows_non_float_processed',\n",
       "       'building_windows_float_processed',\n",
       "       'building_windows_non_float_processed',\n",
       "       'building_windows_float_processed', 'headlamps',\n",
       "       'building_windows_float_processed',\n",
       "       'building_windows_float_processed',\n",
       "       'building_windows_non_float_processed',\n",
       "       'building_windows_float_processed',\n",
       "       'building_windows_float_processed',\n",
       "       'building_windows_non_float_processed', 'containers', 'containers',\n",
       "       'building_windows_non_float_processed',\n",
       "       'building_windows_non_float_processed', 'headlamps',\n",
       "       'building_windows_non_float_processed',\n",
       "       'building_windows_non_float_processed',\n",
       "       'building_windows_float_processed', 'headlamps',\n",
       "       'building_windows_float_processed', 'containers',\n",
       "       'building_windows_float_processed',\n",
       "       'building_windows_non_float_processed',\n",
       "       'building_windows_non_float_processed',\n",
       "       'building_windows_float_processed',\n",
       "       'building_windows_float_processed',\n",
       "       'building_windows_non_float_processed', 'tableware',\n",
       "       'building_windows_non_float_processed',\n",
       "       'building_windows_non_float_processed',\n",
       "       'building_windows_float_processed',\n",
       "       'building_windows_float_processed', 'tableware',\n",
       "       'building_windows_non_float_processed',\n",
       "       'building_windows_float_processed',\n",
       "       'building_windows_non_float_processed',\n",
       "       'building_windows_float_processed',\n",
       "       'building_windows_float_processed', 'tableware'], dtype=object)"
      ]
     },
     "execution_count": 13,
     "metadata": {},
     "output_type": "execute_result"
    }
   ],
   "source": [
    "preds = modelkn.predict(x_test)\n",
    "preds"
   ]
  },
  {
   "cell_type": "code",
   "execution_count": 14,
   "id": "be72c4ca",
   "metadata": {
    "ExecuteTime": {
     "end_time": "2022-07-11T05:41:37.004019Z",
     "start_time": "2022-07-11T05:41:36.988018Z"
    }
   },
   "outputs": [
    {
     "data": {
      "text/plain": [
       "76.74418604651163"
      ]
     },
     "execution_count": 14,
     "metadata": {},
     "output_type": "execute_result"
    }
   ],
   "source": [
    "np.mean(preds==y_test)*100"
   ]
  },
  {
   "cell_type": "code",
   "execution_count": 15,
   "id": "339d994f",
   "metadata": {
    "ExecuteTime": {
     "end_time": "2022-07-11T05:41:04.659339Z",
     "start_time": "2022-07-11T05:41:04.635322Z"
    }
   },
   "outputs": [
    {
     "data": {
      "text/html": [
       "<div>\n",
       "<style scoped>\n",
       "    .dataframe tbody tr th:only-of-type {\n",
       "        vertical-align: middle;\n",
       "    }\n",
       "\n",
       "    .dataframe tbody tr th {\n",
       "        vertical-align: top;\n",
       "    }\n",
       "\n",
       "    .dataframe thead th {\n",
       "        text-align: right;\n",
       "    }\n",
       "</style>\n",
       "<table border=\"1\" class=\"dataframe\">\n",
       "  <thead>\n",
       "    <tr style=\"text-align: right;\">\n",
       "      <th></th>\n",
       "      <th>Actual</th>\n",
       "      <th>Predicted</th>\n",
       "    </tr>\n",
       "  </thead>\n",
       "  <tbody>\n",
       "    <tr>\n",
       "      <th>212</th>\n",
       "      <td>headlamps</td>\n",
       "      <td>headlamps</td>\n",
       "    </tr>\n",
       "    <tr>\n",
       "      <th>46</th>\n",
       "      <td>building_windows_float_processed</td>\n",
       "      <td>building_windows_float_processed</td>\n",
       "    </tr>\n",
       "    <tr>\n",
       "      <th>52</th>\n",
       "      <td>building_windows_float_processed</td>\n",
       "      <td>building_windows_float_processed</td>\n",
       "    </tr>\n",
       "    <tr>\n",
       "      <th>183</th>\n",
       "      <td>tableware</td>\n",
       "      <td>building_windows_non_float_processed</td>\n",
       "    </tr>\n",
       "    <tr>\n",
       "      <th>19</th>\n",
       "      <td>building_windows_float_processed</td>\n",
       "      <td>building_windows_float_processed</td>\n",
       "    </tr>\n",
       "    <tr>\n",
       "      <th>139</th>\n",
       "      <td>building_windows_non_float_processed</td>\n",
       "      <td>building_windows_non_float_processed</td>\n",
       "    </tr>\n",
       "    <tr>\n",
       "      <th>44</th>\n",
       "      <td>building_windows_float_processed</td>\n",
       "      <td>building_windows_float_processed</td>\n",
       "    </tr>\n",
       "    <tr>\n",
       "      <th>213</th>\n",
       "      <td>headlamps</td>\n",
       "      <td>headlamps</td>\n",
       "    </tr>\n",
       "    <tr>\n",
       "      <th>64</th>\n",
       "      <td>building_windows_float_processed</td>\n",
       "      <td>building_windows_float_processed</td>\n",
       "    </tr>\n",
       "    <tr>\n",
       "      <th>14</th>\n",
       "      <td>building_windows_float_processed</td>\n",
       "      <td>building_windows_float_processed</td>\n",
       "    </tr>\n",
       "    <tr>\n",
       "      <th>72</th>\n",
       "      <td>building_windows_non_float_processed</td>\n",
       "      <td>building_windows_non_float_processed</td>\n",
       "    </tr>\n",
       "    <tr>\n",
       "      <th>151</th>\n",
       "      <td>vehicle_windows_float_processed</td>\n",
       "      <td>building_windows_float_processed</td>\n",
       "    </tr>\n",
       "    <tr>\n",
       "      <th>67</th>\n",
       "      <td>building_windows_float_processed</td>\n",
       "      <td>building_windows_float_processed</td>\n",
       "    </tr>\n",
       "    <tr>\n",
       "      <th>112</th>\n",
       "      <td>building_windows_non_float_processed</td>\n",
       "      <td>building_windows_non_float_processed</td>\n",
       "    </tr>\n",
       "    <tr>\n",
       "      <th>110</th>\n",
       "      <td>building_windows_non_float_processed</td>\n",
       "      <td>containers</td>\n",
       "    </tr>\n",
       "    <tr>\n",
       "      <th>105</th>\n",
       "      <td>building_windows_non_float_processed</td>\n",
       "      <td>containers</td>\n",
       "    </tr>\n",
       "    <tr>\n",
       "      <th>99</th>\n",
       "      <td>building_windows_non_float_processed</td>\n",
       "      <td>building_windows_non_float_processed</td>\n",
       "    </tr>\n",
       "    <tr>\n",
       "      <th>124</th>\n",
       "      <td>building_windows_non_float_processed</td>\n",
       "      <td>building_windows_non_float_processed</td>\n",
       "    </tr>\n",
       "    <tr>\n",
       "      <th>195</th>\n",
       "      <td>headlamps</td>\n",
       "      <td>headlamps</td>\n",
       "    </tr>\n",
       "    <tr>\n",
       "      <th>140</th>\n",
       "      <td>building_windows_non_float_processed</td>\n",
       "      <td>building_windows_non_float_processed</td>\n",
       "    </tr>\n",
       "    <tr>\n",
       "      <th>77</th>\n",
       "      <td>building_windows_non_float_processed</td>\n",
       "      <td>building_windows_non_float_processed</td>\n",
       "    </tr>\n",
       "    <tr>\n",
       "      <th>148</th>\n",
       "      <td>vehicle_windows_float_processed</td>\n",
       "      <td>building_windows_float_processed</td>\n",
       "    </tr>\n",
       "    <tr>\n",
       "      <th>191</th>\n",
       "      <td>headlamps</td>\n",
       "      <td>headlamps</td>\n",
       "    </tr>\n",
       "    <tr>\n",
       "      <th>18</th>\n",
       "      <td>building_windows_float_processed</td>\n",
       "      <td>building_windows_float_processed</td>\n",
       "    </tr>\n",
       "    <tr>\n",
       "      <th>172</th>\n",
       "      <td>containers</td>\n",
       "      <td>containers</td>\n",
       "    </tr>\n",
       "    <tr>\n",
       "      <th>126</th>\n",
       "      <td>building_windows_non_float_processed</td>\n",
       "      <td>building_windows_float_processed</td>\n",
       "    </tr>\n",
       "    <tr>\n",
       "      <th>74</th>\n",
       "      <td>building_windows_non_float_processed</td>\n",
       "      <td>building_windows_non_float_processed</td>\n",
       "    </tr>\n",
       "    <tr>\n",
       "      <th>84</th>\n",
       "      <td>building_windows_non_float_processed</td>\n",
       "      <td>building_windows_non_float_processed</td>\n",
       "    </tr>\n",
       "    <tr>\n",
       "      <th>69</th>\n",
       "      <td>building_windows_float_processed</td>\n",
       "      <td>building_windows_float_processed</td>\n",
       "    </tr>\n",
       "    <tr>\n",
       "      <th>38</th>\n",
       "      <td>building_windows_float_processed</td>\n",
       "      <td>building_windows_float_processed</td>\n",
       "    </tr>\n",
       "    <tr>\n",
       "      <th>81</th>\n",
       "      <td>building_windows_non_float_processed</td>\n",
       "      <td>building_windows_non_float_processed</td>\n",
       "    </tr>\n",
       "    <tr>\n",
       "      <th>108</th>\n",
       "      <td>building_windows_non_float_processed</td>\n",
       "      <td>tableware</td>\n",
       "    </tr>\n",
       "    <tr>\n",
       "      <th>111</th>\n",
       "      <td>building_windows_non_float_processed</td>\n",
       "      <td>building_windows_non_float_processed</td>\n",
       "    </tr>\n",
       "    <tr>\n",
       "      <th>76</th>\n",
       "      <td>building_windows_non_float_processed</td>\n",
       "      <td>building_windows_non_float_processed</td>\n",
       "    </tr>\n",
       "    <tr>\n",
       "      <th>157</th>\n",
       "      <td>vehicle_windows_float_processed</td>\n",
       "      <td>building_windows_float_processed</td>\n",
       "    </tr>\n",
       "    <tr>\n",
       "      <th>24</th>\n",
       "      <td>building_windows_float_processed</td>\n",
       "      <td>building_windows_float_processed</td>\n",
       "    </tr>\n",
       "    <tr>\n",
       "      <th>190</th>\n",
       "      <td>headlamps</td>\n",
       "      <td>tableware</td>\n",
       "    </tr>\n",
       "    <tr>\n",
       "      <th>75</th>\n",
       "      <td>building_windows_non_float_processed</td>\n",
       "      <td>building_windows_non_float_processed</td>\n",
       "    </tr>\n",
       "    <tr>\n",
       "      <th>82</th>\n",
       "      <td>building_windows_non_float_processed</td>\n",
       "      <td>building_windows_float_processed</td>\n",
       "    </tr>\n",
       "    <tr>\n",
       "      <th>92</th>\n",
       "      <td>building_windows_non_float_processed</td>\n",
       "      <td>building_windows_non_float_processed</td>\n",
       "    </tr>\n",
       "    <tr>\n",
       "      <th>30</th>\n",
       "      <td>building_windows_float_processed</td>\n",
       "      <td>building_windows_float_processed</td>\n",
       "    </tr>\n",
       "    <tr>\n",
       "      <th>47</th>\n",
       "      <td>building_windows_float_processed</td>\n",
       "      <td>building_windows_float_processed</td>\n",
       "    </tr>\n",
       "    <tr>\n",
       "      <th>176</th>\n",
       "      <td>tableware</td>\n",
       "      <td>tableware</td>\n",
       "    </tr>\n",
       "  </tbody>\n",
       "</table>\n",
       "</div>"
      ],
      "text/plain": [
       "                                   Actual  \\\n",
       "212                             headlamps   \n",
       "46       building_windows_float_processed   \n",
       "52       building_windows_float_processed   \n",
       "183                             tableware   \n",
       "19       building_windows_float_processed   \n",
       "139  building_windows_non_float_processed   \n",
       "44       building_windows_float_processed   \n",
       "213                             headlamps   \n",
       "64       building_windows_float_processed   \n",
       "14       building_windows_float_processed   \n",
       "72   building_windows_non_float_processed   \n",
       "151       vehicle_windows_float_processed   \n",
       "67       building_windows_float_processed   \n",
       "112  building_windows_non_float_processed   \n",
       "110  building_windows_non_float_processed   \n",
       "105  building_windows_non_float_processed   \n",
       "99   building_windows_non_float_processed   \n",
       "124  building_windows_non_float_processed   \n",
       "195                             headlamps   \n",
       "140  building_windows_non_float_processed   \n",
       "77   building_windows_non_float_processed   \n",
       "148       vehicle_windows_float_processed   \n",
       "191                             headlamps   \n",
       "18       building_windows_float_processed   \n",
       "172                            containers   \n",
       "126  building_windows_non_float_processed   \n",
       "74   building_windows_non_float_processed   \n",
       "84   building_windows_non_float_processed   \n",
       "69       building_windows_float_processed   \n",
       "38       building_windows_float_processed   \n",
       "81   building_windows_non_float_processed   \n",
       "108  building_windows_non_float_processed   \n",
       "111  building_windows_non_float_processed   \n",
       "76   building_windows_non_float_processed   \n",
       "157       vehicle_windows_float_processed   \n",
       "24       building_windows_float_processed   \n",
       "190                             headlamps   \n",
       "75   building_windows_non_float_processed   \n",
       "82   building_windows_non_float_processed   \n",
       "92   building_windows_non_float_processed   \n",
       "30       building_windows_float_processed   \n",
       "47       building_windows_float_processed   \n",
       "176                             tableware   \n",
       "\n",
       "                                Predicted  \n",
       "212                             headlamps  \n",
       "46       building_windows_float_processed  \n",
       "52       building_windows_float_processed  \n",
       "183  building_windows_non_float_processed  \n",
       "19       building_windows_float_processed  \n",
       "139  building_windows_non_float_processed  \n",
       "44       building_windows_float_processed  \n",
       "213                             headlamps  \n",
       "64       building_windows_float_processed  \n",
       "14       building_windows_float_processed  \n",
       "72   building_windows_non_float_processed  \n",
       "151      building_windows_float_processed  \n",
       "67       building_windows_float_processed  \n",
       "112  building_windows_non_float_processed  \n",
       "110                            containers  \n",
       "105                            containers  \n",
       "99   building_windows_non_float_processed  \n",
       "124  building_windows_non_float_processed  \n",
       "195                             headlamps  \n",
       "140  building_windows_non_float_processed  \n",
       "77   building_windows_non_float_processed  \n",
       "148      building_windows_float_processed  \n",
       "191                             headlamps  \n",
       "18       building_windows_float_processed  \n",
       "172                            containers  \n",
       "126      building_windows_float_processed  \n",
       "74   building_windows_non_float_processed  \n",
       "84   building_windows_non_float_processed  \n",
       "69       building_windows_float_processed  \n",
       "38       building_windows_float_processed  \n",
       "81   building_windows_non_float_processed  \n",
       "108                             tableware  \n",
       "111  building_windows_non_float_processed  \n",
       "76   building_windows_non_float_processed  \n",
       "157      building_windows_float_processed  \n",
       "24       building_windows_float_processed  \n",
       "190                             tableware  \n",
       "75   building_windows_non_float_processed  \n",
       "82       building_windows_float_processed  \n",
       "92   building_windows_non_float_processed  \n",
       "30       building_windows_float_processed  \n",
       "47       building_windows_float_processed  \n",
       "176                             tableware  "
      ]
     },
     "execution_count": 15,
     "metadata": {},
     "output_type": "execute_result"
    }
   ],
   "source": [
    "df_t = pd.DataFrame({'Actual':y_test, 'Predicted':preds})\n",
    "df_t"
   ]
  },
  {
   "cell_type": "code",
   "execution_count": 16,
   "id": "e62919ee",
   "metadata": {
    "ExecuteTime": {
     "end_time": "2022-07-11T05:41:13.542761Z",
     "start_time": "2022-07-11T05:41:13.518763Z"
    }
   },
   "outputs": [
    {
     "name": "stdout",
     "output_type": "stream",
     "text": [
      "[[13  0  0  0  0  0]\n",
      " [ 2 14  2  0  1  0]\n",
      " [ 0  0  1  0  0  0]\n",
      " [ 0  0  0  4  1  0]\n",
      " [ 0  1  0  0  1  0]\n",
      " [ 3  0  0  0  0  0]]\n"
     ]
    }
   ],
   "source": [
    "from sklearn.metrics import classification_report,confusion_matrix,f1_score,accuracy_score\n",
    "confusion_matrix = confusion_matrix(y_test,preds)\n",
    "print(confusion_matrix)"
   ]
  },
  {
   "cell_type": "code",
   "execution_count": 17,
   "id": "7bec3e86",
   "metadata": {
    "ExecuteTime": {
     "end_time": "2022-07-11T05:41:16.419239Z",
     "start_time": "2022-07-11T05:41:16.395222Z"
    }
   },
   "outputs": [
    {
     "name": "stdout",
     "output_type": "stream",
     "text": [
      "                                      precision    recall  f1-score   support\n",
      "\n",
      "    building_windows_float_processed       0.72      1.00      0.84        13\n",
      "building_windows_non_float_processed       0.93      0.74      0.82        19\n",
      "                          containers       0.33      1.00      0.50         1\n",
      "                           headlamps       1.00      0.80      0.89         5\n",
      "                           tableware       0.33      0.50      0.40         2\n",
      "     vehicle_windows_float_processed       0.00      0.00      0.00         3\n",
      "\n",
      "                            accuracy                           0.77        43\n",
      "                           macro avg       0.55      0.67      0.58        43\n",
      "                        weighted avg       0.77      0.77      0.75        43\n",
      "\n"
     ]
    }
   ],
   "source": [
    "print(classification_report(y_test,preds))"
   ]
  },
  {
   "cell_type": "code",
   "execution_count": 18,
   "id": "cde76a7a",
   "metadata": {
    "ExecuteTime": {
     "end_time": "2022-07-11T05:41:27.215534Z",
     "start_time": "2022-07-11T05:41:27.199535Z"
    }
   },
   "outputs": [
    {
     "data": {
      "text/plain": [
       "76.74418604651163"
      ]
     },
     "execution_count": 18,
     "metadata": {},
     "output_type": "execute_result"
    }
   ],
   "source": [
    "accuracy_score(y_test,preds)*100"
   ]
  },
  {
   "cell_type": "code",
   "execution_count": null,
   "id": "ff818bf5",
   "metadata": {},
   "outputs": [],
   "source": []
  }
 ],
 "metadata": {
  "kernelspec": {
   "display_name": "Python 3 (ipykernel)",
   "language": "python",
   "name": "python3"
  },
  "language_info": {
   "codemirror_mode": {
    "name": "ipython",
    "version": 3
   },
   "file_extension": ".py",
   "mimetype": "text/x-python",
   "name": "python",
   "nbconvert_exporter": "python",
   "pygments_lexer": "ipython3",
   "version": "3.9.12"
  },
  "toc": {
   "base_numbering": 1,
   "nav_menu": {},
   "number_sections": true,
   "sideBar": true,
   "skip_h1_title": false,
   "title_cell": "Table of Contents",
   "title_sidebar": "Contents",
   "toc_cell": false,
   "toc_position": {},
   "toc_section_display": true,
   "toc_window_display": false
  }
 },
 "nbformat": 4,
 "nbformat_minor": 5
}
