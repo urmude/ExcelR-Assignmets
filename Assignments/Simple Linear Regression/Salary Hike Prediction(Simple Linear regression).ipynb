{
 "cells": [
  {
   "cell_type": "markdown",
   "id": "6162cffd",
   "metadata": {},
   "source": [
    "# Importing Datasets"
   ]
  },
  {
   "cell_type": "code",
   "execution_count": 1,
   "id": "0e3b03a4",
   "metadata": {},
   "outputs": [],
   "source": [
    "#importing libraries and datasets\n",
    "\n",
    "import pandas as pd\n",
    "import numpy as np\n",
    "import seaborn as sns\n",
    "import warnings\n",
    "warnings.filterwarnings('ignore')\n",
    "salary_df = pd.read_csv(\"Salary_Data.csv\")"
   ]
  },
  {
   "cell_type": "code",
   "execution_count": 2,
   "id": "e7e44060",
   "metadata": {},
   "outputs": [
    {
     "data": {
      "text/html": [
       "<div>\n",
       "<style scoped>\n",
       "    .dataframe tbody tr th:only-of-type {\n",
       "        vertical-align: middle;\n",
       "    }\n",
       "\n",
       "    .dataframe tbody tr th {\n",
       "        vertical-align: top;\n",
       "    }\n",
       "\n",
       "    .dataframe thead th {\n",
       "        text-align: right;\n",
       "    }\n",
       "</style>\n",
       "<table border=\"1\" class=\"dataframe\">\n",
       "  <thead>\n",
       "    <tr style=\"text-align: right;\">\n",
       "      <th></th>\n",
       "      <th>YearsExperience</th>\n",
       "      <th>Salary</th>\n",
       "    </tr>\n",
       "  </thead>\n",
       "  <tbody>\n",
       "    <tr>\n",
       "      <th>0</th>\n",
       "      <td>1.1</td>\n",
       "      <td>39343.0</td>\n",
       "    </tr>\n",
       "    <tr>\n",
       "      <th>1</th>\n",
       "      <td>1.3</td>\n",
       "      <td>46205.0</td>\n",
       "    </tr>\n",
       "    <tr>\n",
       "      <th>2</th>\n",
       "      <td>1.5</td>\n",
       "      <td>37731.0</td>\n",
       "    </tr>\n",
       "    <tr>\n",
       "      <th>3</th>\n",
       "      <td>2.0</td>\n",
       "      <td>43525.0</td>\n",
       "    </tr>\n",
       "    <tr>\n",
       "      <th>4</th>\n",
       "      <td>2.2</td>\n",
       "      <td>39891.0</td>\n",
       "    </tr>\n",
       "  </tbody>\n",
       "</table>\n",
       "</div>"
      ],
      "text/plain": [
       "   YearsExperience   Salary\n",
       "0              1.1  39343.0\n",
       "1              1.3  46205.0\n",
       "2              1.5  37731.0\n",
       "3              2.0  43525.0\n",
       "4              2.2  39891.0"
      ]
     },
     "execution_count": 2,
     "metadata": {},
     "output_type": "execute_result"
    }
   ],
   "source": [
    "#checking\n",
    "salary_df.head()"
   ]
  },
  {
   "cell_type": "markdown",
   "id": "b9131bb6",
   "metadata": {},
   "source": [
    "### EDA and Data Visualization"
   ]
  },
  {
   "cell_type": "code",
   "execution_count": 3,
   "id": "23213539",
   "metadata": {},
   "outputs": [
    {
     "name": "stdout",
     "output_type": "stream",
     "text": [
      "<class 'pandas.core.frame.DataFrame'>\n",
      "RangeIndex: 30 entries, 0 to 29\n",
      "Data columns (total 2 columns):\n",
      " #   Column           Non-Null Count  Dtype  \n",
      "---  ------           --------------  -----  \n",
      " 0   YearsExperience  30 non-null     float64\n",
      " 1   Salary           30 non-null     float64\n",
      "dtypes: float64(2)\n",
      "memory usage: 608.0 bytes\n"
     ]
    }
   ],
   "source": [
    "salary_df.info()\n"
   ]
  },
  {
   "cell_type": "code",
   "execution_count": 4,
   "id": "c5c8a3b1",
   "metadata": {},
   "outputs": [
    {
     "data": {
      "text/plain": [
       "<AxesSubplot:xlabel='YearsExperience', ylabel='Density'>"
      ]
     },
     "execution_count": 4,
     "metadata": {},
     "output_type": "execute_result"
    },
    {
     "data": {
      "image/png": "[encoded data removed]",
      "text/plain": [
       "<Figure size 432x288 with 1 Axes>"
      ]
     },
     "metadata": {
      "needs_background": "light"
     },
     "output_type": "display_data"
    }
   ],
   "source": [
    "sns.distplot(salary_df['YearsExperience'])"
   ]
  },
  {
   "cell_type": "code",
   "execution_count": 5,
   "id": "707a465c",
   "metadata": {},
   "outputs": [
    {
     "data": {
      "text/plain": [
       "<AxesSubplot:xlabel='Salary', ylabel='Density'>"
      ]
     },
     "execution_count": 5,
     "metadata": {},
     "output_type": "execute_result"
    },
    {
     "data": {
      "image/png": "[encoded data removed]",
      "text/plain": [
       "<Figure size 432x288 with 1 Axes>"
      ]
     },
     "metadata": {
      "needs_background": "light"
     },
     "output_type": "display_data"
    }
   ],
   "source": [
    "sns.distplot(salary_df['Salary'])"
   ]
  },
  {
   "cell_type": "markdown",
   "id": "eb34c469",
   "metadata": {},
   "source": [
    "### Correlation Analysis\n"
   ]
  },
  {
   "cell_type": "code",
   "execution_count": 6,
   "id": "68c8aa65",
   "metadata": {},
   "outputs": [
    {
     "data": {
      "text/html": [
       "<div>\n",
       "<style scoped>\n",
       "    .dataframe tbody tr th:only-of-type {\n",
       "        vertical-align: middle;\n",
       "    }\n",
       "\n",
       "    .dataframe tbody tr th {\n",
       "        vertical-align: top;\n",
       "    }\n",
       "\n",
       "    .dataframe thead th {\n",
       "        text-align: right;\n",
       "    }\n",
       "</style>\n",
       "<table border=\"1\" class=\"dataframe\">\n",
       "  <thead>\n",
       "    <tr style=\"text-align: right;\">\n",
       "      <th></th>\n",
       "      <th>YearsExperience</th>\n",
       "      <th>Salary</th>\n",
       "    </tr>\n",
       "  </thead>\n",
       "  <tbody>\n",
       "    <tr>\n",
       "      <th>YearsExperience</th>\n",
       "      <td>1.000000</td>\n",
       "      <td>0.978242</td>\n",
       "    </tr>\n",
       "    <tr>\n",
       "      <th>Salary</th>\n",
       "      <td>0.978242</td>\n",
       "      <td>1.000000</td>\n",
       "    </tr>\n",
       "  </tbody>\n",
       "</table>\n",
       "</div>"
      ],
      "text/plain": [
       "                 YearsExperience    Salary\n",
       "YearsExperience         1.000000  0.978242\n",
       "Salary                  0.978242  1.000000"
      ]
     },
     "execution_count": 6,
     "metadata": {},
     "output_type": "execute_result"
    }
   ],
   "source": [
    "salary_df.corr()"
   ]
  },
  {
   "cell_type": "code",
   "execution_count": 7,
   "id": "80fd97b5",
   "metadata": {},
   "outputs": [
    {
     "data": {
      "text/html": [
       "<div>\n",
       "<style scoped>\n",
       "    .dataframe tbody tr th:only-of-type {\n",
       "        vertical-align: middle;\n",
       "    }\n",
       "\n",
       "    .dataframe tbody tr th {\n",
       "        vertical-align: top;\n",
       "    }\n",
       "\n",
       "    .dataframe thead th {\n",
       "        text-align: right;\n",
       "    }\n",
       "</style>\n",
       "<table border=\"1\" class=\"dataframe\">\n",
       "  <thead>\n",
       "    <tr style=\"text-align: right;\">\n",
       "      <th></th>\n",
       "      <th>exp</th>\n",
       "      <th>sal</th>\n",
       "    </tr>\n",
       "  </thead>\n",
       "  <tbody>\n",
       "    <tr>\n",
       "      <th>0</th>\n",
       "      <td>1.1</td>\n",
       "      <td>39343.0</td>\n",
       "    </tr>\n",
       "    <tr>\n",
       "      <th>1</th>\n",
       "      <td>1.3</td>\n",
       "      <td>46205.0</td>\n",
       "    </tr>\n",
       "    <tr>\n",
       "      <th>2</th>\n",
       "      <td>1.5</td>\n",
       "      <td>37731.0</td>\n",
       "    </tr>\n",
       "    <tr>\n",
       "      <th>3</th>\n",
       "      <td>2.0</td>\n",
       "      <td>43525.0</td>\n",
       "    </tr>\n",
       "    <tr>\n",
       "      <th>4</th>\n",
       "      <td>2.2</td>\n",
       "      <td>39891.0</td>\n",
       "    </tr>\n",
       "  </tbody>\n",
       "</table>\n",
       "</div>"
      ],
      "text/plain": [
       "   exp      sal\n",
       "0  1.1  39343.0\n",
       "1  1.3  46205.0\n",
       "2  1.5  37731.0\n",
       "3  2.0  43525.0\n",
       "4  2.2  39891.0"
      ]
     },
     "execution_count": 7,
     "metadata": {},
     "output_type": "execute_result"
    }
   ],
   "source": [
    "#it has high correlation so we can move forward\n",
    "\n",
    "#Renaming column so it will be easy to call\n",
    "salary_df=salary_df.rename(columns={'YearsExperience': 'exp','Salary': 'sal' })\n",
    "#checking\n",
    "salary_df.head()"
   ]
  },
  {
   "cell_type": "code",
   "execution_count": 8,
   "id": "0a4f6373",
   "metadata": {},
   "outputs": [
    {
     "data": {
      "text/plain": [
       "<AxesSubplot:xlabel='exp', ylabel='sal'>"
      ]
     },
     "execution_count": 8,
     "metadata": {},
     "output_type": "execute_result"
    },
    {
     "data": {
      "image/png": "[encoded data removed]",
      "text/plain": [
       "<Figure size 432x288 with 1 Axes>"
      ]
     },
     "metadata": {
      "needs_background": "light"
     },
     "output_type": "display_data"
    }
   ],
   "source": [
    "sns.regplot(x=salary_df['exp'],y=salary_df['sal'])"
   ]
  },
  {
   "cell_type": "code",
   "execution_count": 9,
   "id": "c1778d55",
   "metadata": {},
   "outputs": [],
   "source": [
    "#Fitting a Linear Regression Model\n",
    "import statsmodels.formula.api as smf\n",
    "model=smf.ols(\"sal~exp\",data=salary_df).fit()"
   ]
  },
  {
   "cell_type": "code",
   "execution_count": 10,
   "id": "df4db270",
   "metadata": {},
   "outputs": [
    {
     "data": {
      "image/png": "[encoded data removed]",
      "text/plain": [
       "<Figure size 432x288 with 1 Axes>"
      ]
     },
     "metadata": {
      "needs_background": "light"
     },
     "output_type": "display_data"
    }
   ],
   "source": [
    "sns.regplot(x=\"exp\", y=\"sal\", data=salary_df);#regplot() method is used to plot data and a linear regression model fit"
   ]
  },
  {
   "cell_type": "code",
   "execution_count": 11,
   "id": "30b01ad9",
   "metadata": {},
   "outputs": [
    {
     "data": {
      "text/plain": [
       "Intercept    25792.200199\n",
       "exp           9449.962321\n",
       "dtype: float64"
      ]
     },
     "execution_count": 11,
     "metadata": {},
     "output_type": "execute_result"
    }
   ],
   "source": [
    "#Coefficients\n",
    "model.params"
   ]
  },
  {
   "cell_type": "code",
   "execution_count": 12,
   "id": "7c833dc8",
   "metadata": {},
   "outputs": [
    {
     "name": "stdout",
     "output_type": "stream",
     "text": [
      "Intercept    11.346940\n",
      "exp          24.950094\n",
      "dtype: float64 \n",
      " Intercept    5.511950e-12\n",
      "exp          1.143068e-20\n",
      "dtype: float64\n"
     ]
    }
   ],
   "source": [
    "#t and p-Values\n",
    "print(model.tvalues, '\\n', model.pvalues)    "
   ]
  },
  {
   "cell_type": "code",
   "execution_count": 13,
   "id": "879925f5",
   "metadata": {},
   "outputs": [
    {
     "data": {
      "text/plain": [
       "(0.9569566641435086, 0.9554194021486339)"
      ]
     },
     "execution_count": 13,
     "metadata": {},
     "output_type": "execute_result"
    }
   ],
   "source": [
    "#R squared values without any transformation\n",
    "(model.rsquared,model.rsquared_adj)"
   ]
  },
  {
   "cell_type": "code",
   "execution_count": 14,
   "id": "bf13e9f8",
   "metadata": {},
   "outputs": [],
   "source": [
    "X_log = np.log(salary_df['exp'])\n",
    "Y_log = np.log(salary_df['sal'])\n",
    "X_sqrt = np.sqrt(salary_df['exp'])\n",
    "Y_sqrt = np.sqrt(salary_df['sal'])"
   ]
  },
  {
   "cell_type": "code",
   "execution_count": 15,
   "id": "22a87664",
   "metadata": {},
   "outputs": [],
   "source": [
    "salary_df['log_years_of_experience'] = X_log\n",
    "salary_df['log_salary'] = Y_log\n",
    "salary_df['sqrt_years_of_experience'] = X_sqrt\n",
    "salary_df['sqrt_salary'] = Y_sqrt"
   ]
  },
  {
   "cell_type": "code",
   "execution_count": 16,
   "id": "42658554",
   "metadata": {},
   "outputs": [
    {
     "data": {
      "text/html": [
       "<div>\n",
       "<style scoped>\n",
       "    .dataframe tbody tr th:only-of-type {\n",
       "        vertical-align: middle;\n",
       "    }\n",
       "\n",
       "    .dataframe tbody tr th {\n",
       "        vertical-align: top;\n",
       "    }\n",
       "\n",
       "    .dataframe thead th {\n",
       "        text-align: right;\n",
       "    }\n",
       "</style>\n",
       "<table border=\"1\" class=\"dataframe\">\n",
       "  <thead>\n",
       "    <tr style=\"text-align: right;\">\n",
       "      <th></th>\n",
       "      <th>exp</th>\n",
       "      <th>sal</th>\n",
       "      <th>log_years_of_experience</th>\n",
       "      <th>log_salary</th>\n",
       "      <th>sqrt_years_of_experience</th>\n",
       "      <th>sqrt_salary</th>\n",
       "    </tr>\n",
       "  </thead>\n",
       "  <tbody>\n",
       "    <tr>\n",
       "      <th>0</th>\n",
       "      <td>1.1</td>\n",
       "      <td>39343.0</td>\n",
       "      <td>0.095310</td>\n",
       "      <td>10.580073</td>\n",
       "      <td>1.048809</td>\n",
       "      <td>198.350700</td>\n",
       "    </tr>\n",
       "    <tr>\n",
       "      <th>1</th>\n",
       "      <td>1.3</td>\n",
       "      <td>46205.0</td>\n",
       "      <td>0.262364</td>\n",
       "      <td>10.740843</td>\n",
       "      <td>1.140175</td>\n",
       "      <td>214.953483</td>\n",
       "    </tr>\n",
       "    <tr>\n",
       "      <th>2</th>\n",
       "      <td>1.5</td>\n",
       "      <td>37731.0</td>\n",
       "      <td>0.405465</td>\n",
       "      <td>10.538237</td>\n",
       "      <td>1.224745</td>\n",
       "      <td>194.244691</td>\n",
       "    </tr>\n",
       "    <tr>\n",
       "      <th>3</th>\n",
       "      <td>2.0</td>\n",
       "      <td>43525.0</td>\n",
       "      <td>0.693147</td>\n",
       "      <td>10.681091</td>\n",
       "      <td>1.414214</td>\n",
       "      <td>208.626460</td>\n",
       "    </tr>\n",
       "    <tr>\n",
       "      <th>4</th>\n",
       "      <td>2.2</td>\n",
       "      <td>39891.0</td>\n",
       "      <td>0.788457</td>\n",
       "      <td>10.593906</td>\n",
       "      <td>1.483240</td>\n",
       "      <td>199.727314</td>\n",
       "    </tr>\n",
       "  </tbody>\n",
       "</table>\n",
       "</div>"
      ],
      "text/plain": [
       "   exp      sal  log_years_of_experience  log_salary  \\\n",
       "0  1.1  39343.0                 0.095310   10.580073   \n",
       "1  1.3  46205.0                 0.262364   10.740843   \n",
       "2  1.5  37731.0                 0.405465   10.538237   \n",
       "3  2.0  43525.0                 0.693147   10.681091   \n",
       "4  2.2  39891.0                 0.788457   10.593906   \n",
       "\n",
       "   sqrt_years_of_experience  sqrt_salary  \n",
       "0                  1.048809   198.350700  \n",
       "1                  1.140175   214.953483  \n",
       "2                  1.224745   194.244691  \n",
       "3                  1.414214   208.626460  \n",
       "4                  1.483240   199.727314  "
      ]
     },
     "execution_count": 16,
     "metadata": {},
     "output_type": "execute_result"
    }
   ],
   "source": [
    "salary_df.head()"
   ]
  },
  {
   "cell_type": "code",
   "execution_count": 17,
   "id": "6e06486e",
   "metadata": {},
   "outputs": [
    {
     "name": "stdout",
     "output_type": "stream",
     "text": [
      "Intercept                   2.895135\n",
      "log_years_of_experience    12.791989\n",
      "dtype: float64 \n",
      " Intercept                  7.268813e-03\n",
      "log_years_of_experience    3.250155e-13\n",
      "dtype: float64\n"
     ]
    },
    {
     "data": {
      "text/plain": [
       "(0.853888882875697, 0.8486706286926862)"
      ]
     },
     "execution_count": 17,
     "metadata": {},
     "output_type": "execute_result"
    }
   ],
   "source": [
    "model_log_x = smf.ols(\"sal~log_years_of_experience\",data = salary_df).fit()\n",
    "print(model_log_x.tvalues, '\\n' ,model_log_x.pvalues)\n",
    "(model_log_x.rsquared,model_log_x.rsquared_adj)#rsquared value using log transformation on input variable"
   ]
  },
  {
   "cell_type": "code",
   "execution_count": 26,
   "id": "06d50e0d",
   "metadata": {},
   "outputs": [
    {
     "name": "stdout",
     "output_type": "stream",
     "text": [
      "Intercept    273.327166\n",
      "exp           19.584833\n",
      "dtype: float64 \n",
      " Intercept    1.604634e-49\n",
      "exp          7.027439e-18\n",
      "dtype: float64\n"
     ]
    },
    {
     "data": {
      "text/plain": [
       "(0.9319671194084196, 0.929537373673006)"
      ]
     },
     "execution_count": 26,
     "metadata": {},
     "output_type": "execute_result"
    }
   ],
   "source": [
    "model_log_y = smf.ols(\"log_salary~exp\",data = salary_df).fit()\n",
    "print(model_log_y.tvalues, '\\n' ,model_log_y.pvalues)\n",
    "(model_log_y.rsquared,model_log_y.rsquared_adj)#rsquared value using log transformation on target variable"
   ]
  },
  {
   "cell_type": "code",
   "execution_count": 19,
   "id": "bb372cc3",
   "metadata": {},
   "outputs": [
    {
     "name": "stdout",
     "output_type": "stream",
     "text": [
      "Intercept                  184.867959\n",
      "log_years_of_experience     16.352542\n",
      "dtype: float64 \n",
      " Intercept                  9.073132e-45\n",
      "log_years_of_experience    7.395278e-16\n",
      "dtype: float64\n"
     ]
    },
    {
     "data": {
      "text/plain": [
       "(0.905215072581715, 0.9018298966024905)"
      ]
     },
     "execution_count": 19,
     "metadata": {},
     "output_type": "execute_result"
    }
   ],
   "source": [
    "model_log_x_y = smf.ols(\"log_salary~log_years_of_experience\",data = salary_df).fit()\n",
    "print(model_log_x_y.tvalues, '\\n' ,model_log_x_y.pvalues)\n",
    "(model_log_x_y.rsquared,model_log_x_y.rsquared_adj)#rsquared value using log transformation on target and input variable'"
   ]
  },
  {
   "cell_type": "code",
   "execution_count": 20,
   "id": "47d99f5c",
   "metadata": {},
   "outputs": [
    {
     "name": "stdout",
     "output_type": "stream",
     "text": [
      "Intercept                   -3.262308\n",
      "sqrt_years_of_experience    19.437148\n",
      "dtype: float64 \n",
      " Intercept                   2.906965e-03\n",
      "sqrt_years_of_experience    8.565358e-18\n",
      "dtype: float64\n"
     ]
    },
    {
     "data": {
      "text/plain": [
       "(0.9310009544993526, 0.9285367028743294)"
      ]
     },
     "execution_count": 20,
     "metadata": {},
     "output_type": "execute_result"
    }
   ],
   "source": [
    "model_sqrt_x = smf.ols(\"sal~sqrt_years_of_experience\",data = salary_df).fit()\n",
    "print(model_sqrt_x.tvalues, '\\n' ,model_sqrt_x.pvalues)\n",
    "(model_sqrt_x.rsquared,model_sqrt_x.rsquared_adj)#rsquared value using square root transformation on input variable"
   ]
  },
  {
   "cell_type": "code",
   "execution_count": 21,
   "id": "6287fda7",
   "metadata": {},
   "outputs": [
    {
     "name": "stdout",
     "output_type": "stream",
     "text": [
      "Intercept    40.646251\n",
      "exp          23.025247\n",
      "dtype: float64 \n",
      " Intercept    1.920194e-26\n",
      "exp          9.782891e-20\n",
      "dtype: float64\n"
     ]
    },
    {
     "data": {
      "text/plain": [
       "(0.9498353533865289, 0.9480437588646192)"
      ]
     },
     "execution_count": 21,
     "metadata": {},
     "output_type": "execute_result"
    }
   ],
   "source": [
    "model_sqrt_y = smf.ols(\"sqrt_salary~exp\",data = salary_df).fit()\n",
    "print(model_sqrt_y.tvalues, '\\n' ,model_sqrt_y.pvalues)\n",
    "(model_sqrt_y.rsquared,model_sqrt_y.rsquared_adj)#rsquared value using square root transformation on target variable"
   ]
  },
  {
   "cell_type": "code",
   "execution_count": 22,
   "id": "8015c75e",
   "metadata": {},
   "outputs": [
    {
     "name": "stdout",
     "output_type": "stream",
     "text": [
      "Intercept                   12.663496\n",
      "sqrt_years_of_experience    21.315126\n",
      "dtype: float64 \n",
      " Intercept                   4.141645e-13\n",
      "sqrt_years_of_experience    7.584326e-19\n",
      "dtype: float64\n"
     ]
    },
    {
     "data": {
      "text/plain": [
       "(0.9419490138976825, 0.9398757643940283)"
      ]
     },
     "execution_count": 22,
     "metadata": {},
     "output_type": "execute_result"
    }
   ],
   "source": [
    "model_sqrt_x_y = smf.ols(\"sqrt_salary~sqrt_years_of_experience\",data = salary_df).fit()\n",
    "print(model_sqrt_x_y.tvalues, '\\n' ,model_sqrt_x_y.pvalues)\n",
    "(model_sqrt_x_y.rsquared,model_sqrt_x_y.rsquared_adj)\n",
    "#rsquared value using square root transformation on both target and input variable"
   ]
  },
  {
   "cell_type": "markdown",
   "id": "1b58cb73",
   "metadata": {},
   "source": [
    "### The R square value with square root transformation on target variable is the highest, it explains 94% variation  "
   ]
  },
  {
   "cell_type": "code",
   "execution_count": 23,
   "id": "932e2abf",
   "metadata": {},
   "outputs": [],
   "source": [
    "#Predict salary for 13 and 20 years of experience\n",
    "newdata=pd.Series([13,20])"
   ]
  },
  {
   "cell_type": "code",
   "execution_count": 24,
   "id": "8c9f8165",
   "metadata": {},
   "outputs": [],
   "source": [
    "data_pred=pd.DataFrame(newdata,columns=['exp'])"
   ]
  },
  {
   "cell_type": "code",
   "execution_count": 25,
   "id": "c78089bb",
   "metadata": {},
   "outputs": [
    {
     "data": {
      "text/plain": [
       "0    148641.710378\n",
       "1    214791.446628\n",
       "dtype: float64"
      ]
     },
     "execution_count": 25,
     "metadata": {},
     "output_type": "execute_result"
    }
   ],
   "source": [
    "model.predict(data_pred)"
   ]
  },
  {
   "cell_type": "code",
   "execution_count": null,
   "id": "83ec8eda",
   "metadata": {},
   "outputs": [],
   "source": []
  }
 ],
 "metadata": {
  "kernelspec": {
   "display_name": "Python 3 (ipykernel)",
   "language": "python",
   "name": "python3"
  },
  "language_info": {
   "codemirror_mode": {
    "name": "ipython",
    "version": 3
   },
   "file_extension": ".py",
   "mimetype": "text/x-python",
   "name": "python",
   "nbconvert_exporter": "python",
   "pygments_lexer": "ipython3",
   "version": "3.9.12"
  }
 },
 "nbformat": 4,
 "nbformat_minor": 5
}
